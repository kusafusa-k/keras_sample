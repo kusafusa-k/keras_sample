{
 "cells": [
  {
   "cell_type": "markdown",
   "metadata": {},
   "source": [
    "# kerasでMNISTを解くサンプルコード\n",
    "\n",
    "- 参考URL <br>\n",
    "https://keras.io/examples/mnist_cnn/ <br>\n",
    "https://qiita.com/Phoeboooo/items/f188eb2426afc8757272 <br>\n",
    "https://analytics-note.xyz/machine-learning/fit-generator/"
   ]
  },
  {
   "cell_type": "code",
   "execution_count": 1,
   "metadata": {
    "scrolled": true
   },
   "outputs": [
    {
     "name": "stderr",
     "output_type": "stream",
     "text": [
      "Using TensorFlow backend.\n"
     ]
    }
   ],
   "source": [
    "from __future__ import print_function\n",
    "import keras\n",
    "from keras.datasets import mnist\n",
    "from keras.models import Sequential\n",
    "from keras.layers import Dense, Dropout, Flatten, GlobalAveragePooling2D\n",
    "from keras.layers import Conv2D, MaxPooling2D\n",
    "from keras import backend as K\n",
    "from keras.initializers import he_normal\n",
    "\n",
    "batch_size = 128\n",
    "num_classes = 10\n",
    "epochs = 10\n",
    "\n",
    "# input image dimensions\n",
    "img_rows, img_cols = 28, 28"
   ]
  },
  {
   "cell_type": "code",
   "execution_count": 2,
   "metadata": {},
   "outputs": [],
   "source": [
    "# データ読み込み\n",
    "# # the data, split between train and test sets\n",
    "# (x_train, y_train), (x_test, y_test) = mnist.load_data()\n",
    "\n",
    "# mnist.load_data()が失敗する場合、予めダウンロードしたmnistデータを読み込む\n",
    "import numpy as np\n",
    "x_train = np.load(\"../mnist/mnist.npz\")['x_train']\n",
    "y_train = np.load(\"../mnist/mnist.npz\")['y_train']\n",
    "x_test = np.load(\"../mnist/mnist.npz\")['x_test']\n",
    "y_test = np.load(\"../mnist/mnist.npz\")['y_test']"
   ]
  },
  {
   "cell_type": "code",
   "execution_count": 3,
   "metadata": {
    "scrolled": true
   },
   "outputs": [
    {
     "name": "stdout",
     "output_type": "stream",
     "text": [
      "x_train shape: (60000, 28, 28, 1)\n",
      "60000 train samples\n",
      "10000 test samples\n"
     ]
    }
   ],
   "source": [
    "# データ前処理\n",
    "if K.image_data_format() == 'channels_first':\n",
    "    x_train = x_train.reshape(x_train.shape[0], 1, img_rows, img_cols)\n",
    "    x_test = x_test.reshape(x_test.shape[0], 1, img_rows, img_cols)\n",
    "    input_shape = (1, img_rows, img_cols)\n",
    "else:\n",
    "    x_train = x_train.reshape(x_train.shape[0], img_rows, img_cols, 1)\n",
    "    x_test = x_test.reshape(x_test.shape[0], img_rows, img_cols, 1)\n",
    "    input_shape = (img_rows, img_cols, 1)\n",
    "\n",
    "# 正規化\n",
    "x_train = x_train.astype('float32')\n",
    "x_test = x_test.astype('float32')\n",
    "x_train /= 255\n",
    "x_test /= 255\n",
    "print('x_train shape:', x_train.shape)\n",
    "print(x_train.shape[0], 'train samples')\n",
    "print(x_test.shape[0], 'test samples')\n",
    "\n",
    "# convert class vectors to binary class matrices（1-hotベクトル化）\n",
    "y_train = keras.utils.to_categorical(y_train, num_classes)\n",
    "y_test = keras.utils.to_categorical(y_test, num_classes)"
   ]
  },
  {
   "cell_type": "code",
   "execution_count": 4,
   "metadata": {
    "scrolled": false
   },
   "outputs": [
    {
     "name": "stdout",
     "output_type": "stream",
     "text": [
      "Model: \"sequential_1\"\n",
      "_________________________________________________________________\n",
      "Layer (type)                 Output Shape              Param #   \n",
      "=================================================================\n",
      "conv2d_1 (Conv2D)            (None, 26, 26, 32)        320       \n",
      "_________________________________________________________________\n",
      "conv2d_2 (Conv2D)            (None, 24, 24, 64)        18496     \n",
      "_________________________________________________________________\n",
      "max_pooling2d_1 (MaxPooling2 (None, 12, 12, 64)        0         \n",
      "_________________________________________________________________\n",
      "dropout_1 (Dropout)          (None, 12, 12, 64)        0         \n",
      "_________________________________________________________________\n",
      "conv2d_3 (Conv2D)            (None, 10, 10, 64)        36928     \n",
      "_________________________________________________________________\n",
      "max_pooling2d_2 (MaxPooling2 (None, 5, 5, 64)          0         \n",
      "_________________________________________________________________\n",
      "dropout_2 (Dropout)          (None, 5, 5, 64)          0         \n",
      "_________________________________________________________________\n",
      "conv2d_4 (Conv2D)            (None, 3, 3, 128)         73856     \n",
      "_________________________________________________________________\n",
      "max_pooling2d_3 (MaxPooling2 (None, 1, 1, 128)         0         \n",
      "_________________________________________________________________\n",
      "dropout_3 (Dropout)          (None, 1, 1, 128)         0         \n",
      "_________________________________________________________________\n",
      "global_average_pooling2d_1 ( (None, 128)               0         \n",
      "_________________________________________________________________\n",
      "dense_1 (Dense)              (None, 128)               16512     \n",
      "_________________________________________________________________\n",
      "dropout_4 (Dropout)          (None, 128)               0         \n",
      "_________________________________________________________________\n",
      "dense_2 (Dense)              (None, 10)                1290      \n",
      "=================================================================\n",
      "Total params: 147,402\n",
      "Trainable params: 147,402\n",
      "Non-trainable params: 0\n",
      "_________________________________________________________________\n",
      "None\n"
     ]
    }
   ],
   "source": [
    "# モデルの生成\n",
    "model = Sequential()\n",
    "\n",
    "model.add(Conv2D(32, kernel_size=(3, 3), activation='relu', input_shape=input_shape, kernel_initializer=he_normal()))\n",
    "model.add(Conv2D(64, (3, 3), activation='relu', kernel_initializer=he_normal()))\n",
    "model.add(MaxPooling2D(pool_size=(2, 2)))\n",
    "model.add(Dropout(0.25))\n",
    "model.add(Conv2D(64, (3, 3), activation='relu', kernel_initializer=he_normal()))\n",
    "model.add(MaxPooling2D(pool_size=(2, 2)))\n",
    "model.add(Dropout(0.25))\n",
    "model.add(Conv2D(128, (3, 3), activation='relu', kernel_initializer=he_normal()))\n",
    "model.add(MaxPooling2D(pool_size=(2, 2)))\n",
    "model.add(Dropout(0.25))\n",
    "\n",
    "# model.add(Flatten())\n",
    "model.add(GlobalAveragePooling2D())\n",
    "\n",
    "model.add(Dense(128, activation='relu', kernel_initializer=he_normal()))\n",
    "model.add(Dropout(0.5))\n",
    "model.add(Dense(num_classes, activation='softmax', kernel_initializer=he_normal()))\n",
    "\n",
    "model.compile(loss=keras.losses.categorical_crossentropy,\n",
    "              optimizer=keras.optimizers.Adadelta(),\n",
    "              metrics=['accuracy'])\n",
    "print(model.summary())"
   ]
  },
  {
   "cell_type": "code",
   "execution_count": 5,
   "metadata": {
    "scrolled": false
   },
   "outputs": [
    {
     "name": "stdout",
     "output_type": "stream",
     "text": [
      "Epoch 1/10\n",
      "469/469 [==============================] - 79s 169ms/step - loss: 1.6487 - accuracy: 0.4226 - val_loss: 0.2112 - val_accuracy: 0.9436\n",
      "Epoch 2/10\n",
      "469/469 [==============================] - 77s 165ms/step - loss: 0.7559 - accuracy: 0.7573 - val_loss: 0.1162 - val_accuracy: 0.9656\n",
      "Epoch 3/10\n",
      "469/469 [==============================] - 78s 166ms/step - loss: 0.5433 - accuracy: 0.8316 - val_loss: 0.0905 - val_accuracy: 0.9731\n",
      "Epoch 4/10\n",
      "469/469 [==============================] - 80s 170ms/step - loss: 0.4526 - accuracy: 0.8615 - val_loss: 0.0976 - val_accuracy: 0.9711\n",
      "Epoch 5/10\n",
      "469/469 [==============================] - 78s 165ms/step - loss: 0.3911 - accuracy: 0.8803 - val_loss: 0.0723 - val_accuracy: 0.9784\n",
      "Epoch 6/10\n",
      "469/469 [==============================] - 74s 159ms/step - loss: 0.3578 - accuracy: 0.8928 - val_loss: 0.0577 - val_accuracy: 0.9821\n",
      "Epoch 7/10\n",
      "469/469 [==============================] - 77s 163ms/step - loss: 0.3302 - accuracy: 0.9019 - val_loss: 0.0510 - val_accuracy: 0.9846\n",
      "Epoch 8/10\n",
      "469/469 [==============================] - 78s 167ms/step - loss: 0.3037 - accuracy: 0.9114 - val_loss: 0.0447 - val_accuracy: 0.9875\n",
      "Epoch 9/10\n",
      "469/469 [==============================] - 74s 158ms/step - loss: 0.2924 - accuracy: 0.9140 - val_loss: 0.0454 - val_accuracy: 0.9867\n",
      "Epoch 10/10\n",
      "469/469 [==============================] - 78s 166ms/step - loss: 0.2750 - accuracy: 0.9193 - val_loss: 0.0500 - val_accuracy: 0.9855\n",
      "Test loss: 0.04998846575347707\n",
      "Test accuracy: 0.9854999780654907\n"
     ]
    }
   ],
   "source": [
    "# 学習と評価\n",
    "history = model.fit(x_train, y_train,\n",
    "          batch_size=batch_size,\n",
    "          epochs=epochs,\n",
    "          verbose=1,\n",
    "          validation_data=(x_test, y_test),\n",
    "          callbacks=[])\n",
    "\n",
    "# # データ拡張\n",
    "# from tensorflow.keras.preprocessing.image import ImageDataGenerator\n",
    "# datagen = ImageDataGenerator(\n",
    "#     rotation_range=30,\n",
    "#     width_shift_range=0.2,\n",
    "#     height_shift_range=0.2,\n",
    "#     zoom_range = 0.2,\n",
    "#     channel_shift_range = 0.2,\n",
    "#     horizontal_flip=True,\n",
    "# )\n",
    "\n",
    "# # 拡張したデータを使って学習\n",
    "# history = model.fit_generator(\n",
    "#             datagen.flow(x_train, y_train, batch_size=batch_size),\n",
    "#             epochs=epochs,\n",
    "#             verbose=1,\n",
    "#             validation_data=(x_test, y_test),\n",
    "#         )\n",
    "\n",
    "# 評価\n",
    "score = model.evaluate(x_test, y_test, verbose=0)\n",
    "\n",
    "print('Test loss:', score[0])\n",
    "print('Test accuracy:', score[1])"
   ]
  },
  {
   "cell_type": "code",
   "execution_count": 7,
   "metadata": {},
   "outputs": [
    {
     "name": "stderr",
     "output_type": "stream",
     "text": [
      "C:\\Users\\kusafusa_k02\\AppData\\Local\\Continuum\\anaconda3\\lib\\site-packages\\ipykernel_launcher.py:29: UserWarning: Matplotlib is currently using module://ipykernel.pylab.backend_inline, which is a non-GUI backend, so cannot show the figure.\n"
     ]
    },
    {
     "data": {
      "image/png": "[encoded data removed]",
      "text/plain": [
       "<Figure size 720x288 with 2 Axes>"
      ]
     },
     "metadata": {
      "needs_background": "light"
     },
     "output_type": "display_data"
    }
   ],
   "source": [
    "# グラフ化\n",
    "from matplotlib import pyplot as plt\n",
    "fig, (axL, axR) = plt.subplots(ncols=2, figsize=(10,4))\n",
    "\n",
    "# loss\n",
    "def plot_history_loss(fit):\n",
    "    # Plot the loss in the history\n",
    "    axL.plot(fit.history['loss'],label=\"loss for training\")\n",
    "    axL.plot(fit.history['val_loss'],label=\"loss for validation\")\n",
    "    axL.set_title('model loss')\n",
    "    axL.set_xlabel('epoch')\n",
    "    axL.set_ylabel('loss')\n",
    "    axL.legend(loc='upper right')\n",
    "\n",
    "# acc\n",
    "def plot_history_acc(fit):\n",
    "    # Plot the loss in the history\n",
    "    axR.plot(fit.history['accuracy'],label=\"loss for training\")\n",
    "    axR.plot(fit.history['val_accuracy'],label=\"loss for validation\")\n",
    "    axR.set_title('model accuracy')\n",
    "    axR.set_xlabel('epoch')\n",
    "    axR.set_ylabel('accuracy')\n",
    "    axR.legend(loc='lower right')\n",
    "\n",
    "plot_history_loss(history)\n",
    "plot_history_acc(history)\n",
    "\n",
    "fig.tight_layout()\n",
    "fig.show()"
   ]
  },
  {
   "cell_type": "code",
   "execution_count": null,
   "metadata": {},
   "outputs": [],
   "source": []
  }
 ],
 "metadata": {
  "kernelspec": {
   "display_name": "Python 3",
   "language": "python",
   "name": "python3"
  },
  "language_info": {
   "codemirror_mode": {
    "name": "ipython",
    "version": 3
   },
   "file_extension": ".py",
   "mimetype": "text/x-python",
   "name": "python",
   "nbconvert_exporter": "python",
   "pygments_lexer": "ipython3",
   "version": "3.7.4"
  }
 },
 "nbformat": 4,
 "nbformat_minor": 2
}
